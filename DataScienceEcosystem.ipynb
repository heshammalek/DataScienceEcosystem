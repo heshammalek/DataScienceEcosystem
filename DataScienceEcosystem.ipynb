{
 "cells": [
  {
   "cell_type": "markdown",
   "id": "69e85694-b8ad-4aba-a0f1-2b1b82a1a1ac",
   "metadata": {},
   "source": [
    "# Data Science Tools and Ecosystem"
   ]
  },
  {
   "cell_type": "markdown",
   "id": "51b7c885-07cd-49dc-9953-40d24abee26e",
   "metadata": {},
   "source": [
    "**Objectives:**\n",
    "- data science categories\n",
    "- open source vs commercial\n",
    "- popular languages\n",
    "- api & libraries\n",
    "- jupyter notebook "
   ]
  },
  {
   "cell_type": "markdown",
   "id": "ef4896f5-f98c-4b67-87b4-208902d7c542",
   "metadata": {},
   "source": [
    "In this notebook, Data Science Tools and Ecosystem are summarized."
   ]
  },
  {
   "cell_type": "markdown",
   "id": "ac9f7f43-6196-4434-bebf-d260ddc0d830",
   "metadata": {},
   "source": [
    "Some of the popular languages that Data Scientists use are:\n",
    "1. Python\n",
    "2. SQL\n",
    "3. R"
   ]
  },
  {
   "cell_type": "markdown",
   "id": "8fb6c9ff-6555-48fe-abc8-117510d9d1dd",
   "metadata": {},
   "source": [
    "Some of the commonly used libraries used by Data Scientists include:\n",
    "1. Pandas\n",
    "2. Scikit-learn\n",
    "3. Numpy\n",
    "4. ggplot"
   ]
  },
  {
   "cell_type": "markdown",
   "id": "69b2d157-691f-4536-b698-03bd98184195",
   "metadata": {},
   "source": [
    "Data Science Tools|\n",
    "------------------|\n",
    "mysql|\n",
    "postgree sql\n",
    "|mongo|\n"
   ]
  },
  {
   "cell_type": "markdown",
   "id": "02ba0524-01cd-4904-8b7a-b5fa4b26d84d",
   "metadata": {},
   "source": [
    "### Below are a few examples of evaluating arithmetic expressions in Python"
   ]
  },
  {
   "cell_type": "code",
   "execution_count": 13,
   "id": "7ecea12b-dae2-4cc8-b021-35a3c94ac0a8",
   "metadata": {},
   "outputs": [
    {
     "data": {
      "text/plain": [
       "17"
      ]
     },
     "execution_count": 13,
     "metadata": {},
     "output_type": "execute_result"
    }
   ],
   "source": [
    "#This a simple arithmetic expression to mutiply then add integers\n",
    "(3*4)+5"
   ]
  },
  {
   "cell_type": "code",
   "execution_count": 15,
   "id": "c86c6567-be17-4d3e-ad4d-28de7994f0b0",
   "metadata": {},
   "outputs": [
    {
     "data": {
      "text/plain": [
       "3.3333333333333335"
      ]
     },
     "execution_count": 15,
     "metadata": {},
     "output_type": "execute_result"
    }
   ],
   "source": [
    "# This will convert 200 minutes to hours by diving by 60\n",
    "200/60"
   ]
  },
  {
   "cell_type": "markdown",
   "id": "1acbedbd-32f3-4e95-98b8-1061e369486e",
   "metadata": {},
   "source": [
    "## Author\n",
    "Hesham Malek"
   ]
  }
 ],
 "metadata": {
  "kernelspec": {
   "display_name": "Python 3 (ipykernel)",
   "language": "python",
   "name": "python3"
  },
  "language_info": {
   "codemirror_mode": {
    "name": "ipython",
    "version": 3
   },
   "file_extension": ".py",
   "mimetype": "text/x-python",
   "name": "python",
   "nbconvert_exporter": "python",
   "pygments_lexer": "ipython3",
   "version": "3.12.4"
  }
 },
 "nbformat": 4,
 "nbformat_minor": 5
}
